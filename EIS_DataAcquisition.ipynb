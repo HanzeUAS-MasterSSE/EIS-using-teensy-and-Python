{
 "cells": [
  {
   "cell_type": "code",
   "execution_count": 1,
   "metadata": {},
   "outputs": [
    {
     "name": "stdout",
     "output_type": "stream",
     "text": [
      "Help on class EIS in module EIS:\n",
      "\n",
      "class EIS(builtins.object)\n",
      " |  EIS(COM, BAUD=115200, timeout=0.1)\n",
      " |  \n",
      " |  Methods defined here:\n",
      " |  \n",
      " |  __init__(self, COM, BAUD=115200, timeout=0.1)\n",
      " |      Initialize self.  See help(type(self)) for accurate signature.\n",
      " |  \n",
      " |  get_and_print_responses(self, print_response=False)\n",
      " |      Retrieve messages written by the teensy to the \n",
      " |      serial connection under the assumption that the output is \n",
      " |      utf-8 encoded. If this assumption is violated the resulting \n",
      " |      exception is printed and an empty string is returned.\n",
      " |  \n",
      " |  get_data(self, stimulus_parameters, adc_type)\n",
      " |      This function can be used to get all the measured data for a single subtype.\n",
      " |      \n",
      " |      Parameters:\n",
      " |          \n",
      " |          stimulus_parameters: contains metadata on the stimulus.\n",
      " |          \n",
      " |          adc_type: 1. V1 \n",
      " |                    2. V2\n",
      " |                    3. DAC stimulus\n",
      " |          \n",
      " |      Output:\n",
      " |      \n",
      " |          data: a numpy array of the correct type (see adc_np_type_map) containing\n",
      " |          the full measurement sequence for a single type.\n",
      " |  \n",
      " |  get_data_slice(self, adc_type, start_pos)\n",
      " |      This function can be used to get a slice of the measured data.\n",
      " |      \n",
      " |      Parameters:\n",
      " |              \n",
      " |          adc_type: 1. V1 \n",
      " |                    2. V2\n",
      " |                    3. DAC stimulus\n",
      " |              \n",
      " |          start_pos: sample at which to start the data request. \n",
      " |          \n",
      " |      Output:\n",
      " |      \n",
      " |          dataslice: A dictionary containing three key-value pairs: 'start', 'end' \n",
      " |                           and 'data'. The value of 'start' is the value of the parameter \n",
      " |                           start_pos, the value of 'end' is the index of the first sample \n",
      " |                           that is not returned (to be used as start_pos in the next call), \n",
      " |                           the value of the 'data' property  contains the measured data \n",
      " |                           as a list.\n",
      " |  \n",
      " |  get_stimulus_parameters(self)\n",
      " |      This function can be used to get all the stimulus parameters.\n",
      " |             \n",
      " |      Output:\n",
      " |      \n",
      " |          stimulus_parameters: \n",
      " |              dictionary with metadata on the stimulus, available keys:\n",
      " |                   'stimulus_parameters_valid': \n",
      " |                          0 (False) or 1 (True) indicates whether \n",
      " |                          data in buffers are from measurement for these \n",
      " |                           stimulus settings\n",
      " |                   'length': \n",
      " |                          length of the stimulus and the measured data\n",
      " |                   'digital_amplitude':\n",
      " |                          Amplitude of DAC input\n",
      " |                   'f_stimulus': \n",
      " |                          stimulus frequency DAC\n",
      " |                   'f_sampling': \n",
      " |                          sampling frequency DAC and ADC\n",
      " |                   'stimulus_duration': \n",
      " |                          stimulus duraction in seconds\n",
      " |                   'ADC_averaging_number': \n",
      " |                          averaging over samples in ADC\n",
      " |  \n",
      " |  measure_spectrum(self, f_range, DC_offset=2048, A_stimulus=0.6, f_sampling=10000, Rs=1000, process_measurement=None)\n",
      " |      This function can be called to measure a complete impedance spectrum.\n",
      " |      \n",
      " |      Parameters:\n",
      " |                  f_range: \n",
      " |                      list or numpy array with frequencies at which to probeb the system\n",
      " |                  DC_offset = 2048: \n",
      " |                      output range of teensy is positive, so we need to offset a sinusoid by a \n",
      " |                      fixed value to keep it in range.\n",
      " |                  A_stimulus = 0.6: \n",
      " |                      amplitude specified as part of the maximum allowed offset\n",
      " |                  f_sampling = 10000: \n",
      " |                      sampling frequency in samples per second\n",
      " |                  Rs= 1000: \n",
      " |                      value of the shunt resistor, see wiring folder for proposed circuits\n",
      " |                  process_measurement=estimate_impedance: \n",
      " |                      function to calculate impedance based on the frequency response \n",
      " |      \n",
      " |      Output:\n",
      " |          spectrum: a list containing for each frequency in f_range the \n",
      " |              output of estimate_impedance.\n",
      " |  \n",
      " |  set_stimulus_parameters(self, f_stimulus, DC_offset=2048, A_stimulus=0.6, f_sampling=10000, print_response=False)\n",
      " |      Method to set the stimulus parameters used in a single measurement.\n",
      " |      \n",
      " |      Parameters:\n",
      " |            f_stimulus:  frequency in Hz of the stimulus used\n",
      " |            DC_offset = 2048: \n",
      " |                output range of teensy is positive, so we need to offset a sinusoid by a \n",
      " |                fixed value to keep it in range.\n",
      " |            A_stimulus = 0.6: \n",
      " |                amplitude specified as part of the maximum allowed offset\n",
      " |            f_sampling = 10000: \n",
      " |                sampling frequency in samples per second  \n",
      " |            print_response = False: if True responses retrieved from teensy are printed\n",
      " |  \n",
      " |  ----------------------------------------------------------------------\n",
      " |  Static methods defined here:\n",
      " |  \n",
      " |  estimate_impedance(Rs, f_stim, f_samp, V1, V2, DAC)\n",
      " |      Estimate the frequency response at the stimulus frequency.\n",
      " |      \n",
      " |      Parameters:\n",
      " |          Rs: shunt resistance\n",
      " |          f_stim: stimulus frequency\n",
      " |          f_samp: sampling frequency\n",
      " |          V1: measured V1 data\n",
      " |          V2: measured V2 data\n",
      " |          DAC: signal provided to DAC\n",
      " |          \n",
      " |      Output:\n",
      " |          Z: impedance at frequency f_stim\n",
      " |          V1_1, V1_2, V1_0: fit parameters for equation 6 from referenced paper\n",
      " |          V2_1, V2_2, V2_0: fit parameters for equation 7 from referenced paper\n",
      " |      \n",
      " |      'Electrochemical Impedance Spectroscopy System Based on a Teensy Board',\n",
      " |      Leila Es Sebar, Leonardo Iannucci, Emma Angelini, Sabrina Grassini, and Marco Parvis,\n",
      " |      IEEE TRANSACTIONS ON INSTRUMENTATION AND MEASUREMENT, VOL. 70, 2021\n",
      " |      \n",
      " |      Here we implement equations 6, 7 and 8 of this paper.\n",
      " |      \n",
      " |      Still needs a resistor and stimulus amplitude correction.\n",
      " |  \n",
      " |  ----------------------------------------------------------------------\n",
      " |  Data descriptors defined here:\n",
      " |  \n",
      " |  __dict__\n",
      " |      dictionary for instance variables (if defined)\n",
      " |  \n",
      " |  __weakref__\n",
      " |      list of weak references to the object (if defined)\n",
      " |  \n",
      " |  ----------------------------------------------------------------------\n",
      " |  Data and other attributes defined here:\n",
      " |  \n",
      " |  adc_np_type_map = {1: <class 'numpy.int16'>, 2: <class 'numpy.uint16'>...\n",
      "\n"
     ]
    }
   ],
   "source": [
    "from EIS import EIS\n",
    "import numpy as np\n",
    "\n",
    "help(EIS)"
   ]
  },
  {
   "cell_type": "code",
   "execution_count": 2,
   "metadata": {},
   "outputs": [
    {
     "name": "stdout",
     "output_type": "stream",
     "text": [
      "COM9\n"
     ]
    }
   ],
   "source": [
    "# Specify COM port to which teensy is attached\n",
    "COM = 'COM9'  # /dev/ttyACM0 (Linux)\n",
    "\n",
    "# ... and start an EIS instance \n",
    "myEIS = EIS(COM) \n",
    "\n",
    "print(myEIS.serial.name)"
   ]
  },
  {
   "cell_type": "code",
   "execution_count": 4,
   "metadata": {
    "scrolled": true
   },
   "outputs": [
    {
     "name": "stdout",
     "output_type": "stream",
     "text": [
      "\n",
      "--------------------------------------------\n",
      "Stimulus amplitude set to 0.600000\n",
      "\n",
      "Sampling frequency for measuremnt set to 25000.000000\n",
      "\n",
      "Stimulus DCValue set to 2048\n",
      "\n",
      "Stimulus frequency set to: 0.000000\n",
      "\n",
      "Measure at frequency 0\n",
      ".{'stimulus_parameters_valid': 1, 'length': 2000, 'digital_amplitude': 1227.6, 'f_stimulus': 0.0, 'f_sampling': 25000.0, 'stimulus_duration': 80.0, 'ADC_averaging_number': 4}\n",
      "\n",
      "--------------------------------------------\n",
      "Stimulus amplitude set to 0.600000\n",
      "\n",
      "Sampling frequency for measuremnt set to 25000.000000\n",
      "\n",
      "Stimulus DCValue set to 2048\n",
      "\n",
      "Stimulus frequency set to: 1000.000000\n",
      "\n",
      "Measure at frequency 1000\n",
      ".{'stimulus_parameters_valid': 1, 'length': 2000, 'digital_amplitude': 1227.6, 'f_stimulus': 1000.0, 'f_sampling': 25000.0, 'stimulus_duration': 80.0, 'ADC_averaging_number': 1}\n",
      "\n",
      "--------------------------------------------\n",
      "Stimulus amplitude set to 0.600000\n",
      "\n",
      "Sampling frequency for measuremnt set to 25000.000000\n",
      "\n",
      "Stimulus DCValue set to 2048\n",
      "\n",
      "Stimulus frequency set to: 2000.000000\n",
      "\n",
      "Measure at frequency 2000\n",
      ".{'stimulus_parameters_valid': 1, 'length': 2000, 'digital_amplitude': 1227.6, 'f_stimulus': 2000.0, 'f_sampling': 25000.0, 'stimulus_duration': 80.0, 'ADC_averaging_number': 1}\n",
      "\n",
      "--------------------------------------------\n",
      "Stimulus amplitude set to 0.600000\n",
      "\n",
      "Sampling frequency for measuremnt set to 25000.000000\n",
      "\n",
      "Stimulus DCValue set to 2048\n",
      "\n",
      "Stimulus frequency set to: 3000.000000\n",
      "\n",
      "Measure at frequency 3000\n",
      ".{'stimulus_parameters_valid': 1, 'length': 2000, 'digital_amplitude': 1227.6, 'f_stimulus': 3000.0, 'f_sampling': 25000.0, 'stimulus_duration': 80.0, 'ADC_averaging_number': 1}\n",
      "\n",
      "--------------------------------------------\n",
      "Stimulus amplitude set to 0.600000\n",
      "\n",
      "Sampling frequency for measuremnt set to 25000.000000\n",
      "\n",
      "Stimulus DCValue set to 2048\n",
      "\n",
      "Stimulus frequency set to: 4000.000000\n",
      "\n",
      "Measure at frequency 4000\n",
      ".{'stimulus_parameters_valid': 1, 'length': 2000, 'digital_amplitude': 1227.6, 'f_stimulus': 4000.0, 'f_sampling': 25000.0, 'stimulus_duration': 80.0, 'ADC_averaging_number': 1}\n",
      "\n",
      "--------------------------------------------\n",
      "Stimulus amplitude set to 0.600000\n",
      "\n",
      "Sampling frequency for measuremnt set to 25000.000000\n",
      "\n",
      "Stimulus DCValue set to 2048\n",
      "\n",
      "Stimulus frequency set to: 5000.000000\n",
      "\n",
      "Measure at frequency 5000\n",
      ".{'stimulus_parameters_valid': 1, 'length': 2000, 'digital_amplitude': 1227.6, 'f_stimulus': 5000.0, 'f_sampling': 25000.0, 'stimulus_duration': 80.0, 'ADC_averaging_number': 1}\n",
      "\n",
      "--------------------------------------------\n",
      "[{'Z': (1477.4542458457058+0j), 'Rs': 1960, 'f_stim': 0, 'f_samp': 25000, 'V1_1': 4681.255250000013, 'V1_2': 0.0, 'V1_0': 4681.255249999997, 'V2_1': 7057.490250000021, 'V2_2': 0.0, 'V2_0': 7057.490249999999}, {'Z': (594.2604844727903-642.5014953518361j), 'Rs': 1960, 'f_stim': 1000, 'f_samp': 25000, 'V1_1': 1781.2893333620664, 'V1_2': 7089.167383426284, 'V1_0': 9356.794000000007, 'V2_1': -3567.6028392049952, 'V2_2': 5466.62561645205, 'V2_0': 14102.8325}, {'Z': (278.9202101863198-430.2972501170698j), 'Rs': 1960, 'f_stim': 2000, 'f_samp': 25000, 'V1_1': 1593.0690674527596, 'V1_2': 8291.639509273104, 'V1_0': 9355.284999999987, 'V2_1': -3187.276041496958, 'V2_2': 3059.386809884832, 'V2_0': 14106.751499999995}, {'Z': (193.17773922035076-299.1115953742331j), 'Rs': 1960, 'f_stim': 3000, 'f_samp': 25000, 'V1_1': 1219.099360900869, 'V1_2': 8769.288613709396, 'V1_0': 9356.315999999997, 'V2_1': -2436.217397061133, 'V2_2': 2100.6919425774613, 'V2_0': 14107.538000000008}, {'Z': (160.23227232816714-221.08711618866965j), 'Rs': 1960, 'f_stim': 4000, 'f_samp': 25000, 'V1_1': 939.5024562923982, 'V1_2': 8978.925801491903, 'V1_0': 9360.118999999993, 'V2_1': -1872.0267331574069, 'V2_2': 1680.0260948499133, 'V2_0': 14109.278999999995}, {'Z': (144.41297611475127-169.32342604610167j), 'Rs': 1960, 'f_stim': 5000, 'f_samp': 25000, 'V1_1': 734.9536423585176, 'V1_2': 9088.086773386513, 'V1_0': 9355.840000000002, 'V2_1': -1461.9276998721389, 'V2_2': 1466.2066600439377, 'V2_0': 14109.761499999991}]\n"
     ]
    }
   ],
   "source": [
    "'''\n",
    "Execute the measurements and save the results\n",
    "\n",
    "Here a correct frequency range (f_range) should be picked, for this you need \n",
    "to analyse the circuit to find some ballpark figures.\n",
    "\n",
    "Warning: frequencies used should adhere to the Shannon-Nyquist sampling theorem \n",
    "and they should respect the limitations of the acquisition electronics.\n",
    "\n",
    "Known problem: sometimes a growing list of dots is shown and no further progress. \n",
    "If that happens the workaround is to interrupt the kernel and run this cell again.\n",
    "''' \n",
    "\n",
    "f_max, f_step = 5001, 1000  # f_min is set to 0 below\n",
    "\n",
    "space_style = [None, 'linear', 'logarithmic', 'handcrafted'][0]\n",
    "\n",
    "if space_style == 'linear':\n",
    "    f_range = np.arange(0, f_max, f_step)\n",
    "elif space_style == 'logarithmic':\n",
    "    f_range = np.logspace(np.log10(1), np.log10(f_max), 6) # log(0) is not defined\n",
    "    f_range[0]= 0 # DC_value is important so put it back in\n",
    "elif space_style == 'handcrafted':\n",
    "    f_range = np.array([0,1,2,12,1212,])  # Just some handpicked values\n",
    "elif 'f_range' not in locals():\n",
    "    raise ValueError('f_range not initialized')\n",
    "\n",
    "spectrum = myEIS.measure_spectrum(f_range, \n",
    "                                  f_sampling = 25000, \n",
    "                                  Rs= 1960,)\n",
    "\n",
    "print(spectrum)\n",
    "\n",
    "np.savez('spectrum__Rs1960Ohm.npz',spectrum=spectrum, f_range=f_range)"
   ]
  },
  {
   "cell_type": "code",
   "execution_count": 5,
   "metadata": {
    "scrolled": false
   },
   "outputs": [
    {
     "name": "stdout",
     "output_type": "stream",
     "text": [
      "------------stimulus_parameters----------------\n",
      "{'stimulus_parameters_valid': 1, 'length': 2000, 'digital_amplitude': 1227.6, 'f_stimulus': 5000.0, 'f_sampling': 25000.0, 'stimulus_duration': 80.0, 'ADC_averaging_number': 1}\n",
      "-----------------------------------------------\n",
      "{'start': 0, 'end': 100, 'data': [14058, 15133, 11839, 1737, -301, 9201, 17572, 13624, 3060, 666, 9891, 18085, 13992, 3350, 874, 10043, 18198, 14068, 3399, 921, 10077, 18230, 14097, 3419, 936, 10087, 18224, 14113, 3431, 942, 10087, 18209, 14107, 3421, 935, 10094, 18213, 14102, 3430, 935, 10091, 18215, 14113, 3427, 933, 10135, 18224, 14113, 3428, 938, 10090, 18240, 14113, 3415, 929, 10093, 18224, 14102, 3409, 930, 10087, 18228, 14113, 3421, 929, 10094, 18224, 14113, 3403, 933, 10093, 18231, 14113, 3418, 935, 10087, 18226, 14113, 3420, 930, 10091, 18215, 14113, 3430, 928, 10091, 18215, 14108, 3431, 938, 10091, 18215, 14113, 3422, 935, 10094, 18215, 14113, 3426, 937]}\n",
      "-----------------------------------------------\n",
      "{'start': 100, 'end': 200, 'data': [12633, 15039, 16149, 14433, 12260, 12633, 15051, 16143, 14425, 12255, 12623, 15032, 16156, 14423, 12237, 12625, 15044, 16139, 14426, 12261, 12637, 15033, 16145, 14428, 12245, 12629, 15037, 16132, 14439, 12255, 12633, 15035, 16152, 14432, 12259, 12621, 15024, 16147, 14432, 12265, 12637, 15033, 16145, 14433, 12257, 12628, 15027, 16145, 14424, 12253, 12628, 15038, 16150, 14418, 12247, 12624, 15042, 16141, 14429, 12258, 12632, 15039, 16142, 14415, 12248, 12627, 15033, 16143, 14426, 12259, 12620, 15058, 16152, 14421, 12253, 12629, 15040, 16140, 14432, 12245, 12629, 15045, 16145, 14427, 12252, 12632, 15031, 16144, 14430, 12248, 12632, 15032, 16138, 14434, 12244, 12621, 15026, 16144, 14434, 12248]}\n",
      "-----------------------------------------------\n",
      "{'start': 2001, 'end': 2000, 'data': []}\n",
      "-----------------------------------------------\n",
      "\n",
      "Populating the interactive namespace from numpy and matplotlib\n"
     ]
    },
    {
     "data": {
      "text/plain": [
       "[<matplotlib.lines.Line2D at 0x2193c2f7f08>]"
      ]
     },
     "execution_count": 5,
     "metadata": {},
     "output_type": "execute_result"
    },
    {
     "data": {
      "image/png": "[encoded data removed]",
      "text/plain": [
       "<Figure size 432x288 with 2 Axes>"
      ]
     },
     "metadata": {
      "needs_background": "light"
     },
     "output_type": "display_data"
    }
   ],
   "source": [
    "'''\n",
    "Exposing some of the lower level functions used in te measurement below.\n",
    "Gives a peak into the last executed measurement on the teensy.\n",
    "'''\n",
    "stimulus_parameters = myEIS.get_stimulus_parameters()  \n",
    "print('------------stimulus_parameters----------------')\n",
    "print(stimulus_parameters) \n",
    "print('-----------------------------------------------')\n",
    "print(myEIS.get_data_slice(1, 0))\n",
    "print('-----------------------------------------------')\n",
    "print(myEIS.get_data_slice(2, 100))\n",
    "print('-----------------------------------------------')\n",
    "print(myEIS.get_data_slice(3, 2001))  \n",
    "# sleep(0.1)\n",
    "print('-----------------------------------------------')\n",
    "print(myEIS.get_and_print_responses())\n",
    "V1 = myEIS.get_data(stimulus_parameters, 1)\n",
    "V2 = myEIS.get_data(stimulus_parameters, 2)\n",
    "DAC = myEIS.get_data(stimulus_parameters, 3)\n",
    "\n",
    "\n",
    "%pylab inline\n",
    "\n",
    "plt.figure()\n",
    "#plt.plot(np.array(V1),np.array(V2),'g.')\n",
    "plt.subplot(2,1,1)\n",
    "plt.plot(np.array(V1),'go-')\n",
    "plt.subplot(2,1,2)\n",
    "plt.plot(np.array(V2),'ro-')\n",
    "#plt.plot(8*np.array(DAC), 'k.')"
   ]
  },
  {
   "cell_type": "code",
   "execution_count": 6,
   "metadata": {
    "scrolled": true
   },
   "outputs": [],
   "source": [
    "'''\n",
    "Load earlier acquired data from file\n",
    "'''\n",
    "\n",
    "reload_data = False\n",
    "if reload_data:\n",
    "    spectrum_storage=np.load('spectrum__Rs1960Ohm.npz')\n",
    "    spectrum = spectrum_storage['spectrum']\n",
    "    f_range=spectrum_storage['f_range']"
   ]
  },
  {
   "cell_type": "code",
   "execution_count": 9,
   "metadata": {},
   "outputs": [
    {
     "name": "stdout",
     "output_type": "stream",
     "text": [
      "Populating the interactive namespace from numpy and matplotlib\n",
      "[   0 1000 2000 3000 4000 5000] 1000 1.6e-07\n"
     ]
    },
    {
     "data": {
      "text/plain": [
       "[<matplotlib.lines.Line2D at 0x192ceb5f688>]"
      ]
     },
     "execution_count": 9,
     "metadata": {},
     "output_type": "execute_result"
    },
    {
     "data": {
      "image/png": "[encoded data removed]",
      "text/plain": [
       "<Figure size 432x288 with 3 Axes>"
      ]
     },
     "metadata": {
      "needs_background": "light"
     },
     "output_type": "display_data"
    },
    {
     "data": {
      "image/png": "[encoded data removed]",
      "text/plain": [
       "<Figure size 432x288 with 3 Axes>"
      ]
     },
     "metadata": {
      "needs_background": "light"
     },
     "output_type": "display_data"
    },
    {
     "data": {
      "image/png": "[encoded data removed]",
      "text/plain": [
       "<Figure size 432x288 with 2 Axes>"
      ]
     },
     "metadata": {
      "needs_background": "light"
     },
     "output_type": "display_data"
    }
   ],
   "source": [
    "'''\n",
    "Create plots of the measured data and a theoretical one for a known circuit. \n",
    "\n",
    "This way you can compare measurements on a known testcircuit with theory.\n",
    "\n",
    "Todo: put info on axes.\n",
    "'''\n",
    "\n",
    "%pylab inline\n",
    "\n",
    "reals = [np.real(response['Z']) for response in spectrum]\n",
    "imaginaries = [np.imag(response['Z']) for response in spectrum]\n",
    "frequencies = np.array([response['f_stim'] for response in spectrum])\n",
    "\n",
    "R_testcircuit, C_testcircuit = 1000, 160*1e-9  # R in Ohm, C in Farad\n",
    "\n",
    "print(frequencies, R_testcircuit, C_testcircuit)\n",
    "Zomega = 1000/(1+1j*2*pi*frequencies*R_testcircuit*C_testcircuit)\n",
    "\n",
    "# print(Zomega)\n",
    "Zreals = [np.real(Z) for Z in Zomega]\n",
    "Zimaginaries = [np.imag(Z) for Z in Zomega]\n",
    "\n",
    "plt.figure()\n",
    "plt.subplot(3,1,1)\n",
    "plt.plot(reals, imaginaries,'.')\n",
    "\n",
    "plt.subplot(3,1,2)\n",
    "plt.plot(frequencies, reals,'.')\n",
    "\n",
    "plt.subplot(3,1,3)\n",
    "plt.plot(frequencies, imaginaries,'.')\n",
    "\n",
    "plt.figure()\n",
    "plt.subplot(3,1,2)\n",
    "plt.plot(frequencies, Zreals, '.')\n",
    "\n",
    "plt.subplot(3,1,3)\n",
    "plt.plot(frequencies, Zimaginaries,'.')\n",
    "\n",
    "plt.subplot(3,1,1)\n",
    "plt.plot(Zreals, Zimaginaries,'.')\n",
    "\n",
    "\n",
    "plt.figure()\n",
    "plt.subplot(1,2,1)\n",
    "plt.plot(Zreals, reals, '.')\n",
    "\n",
    "\n",
    "plt.subplot(1,2,2)\n",
    "plt.plot(Zimaginaries, imaginaries,'.')\n",
    "\n"
   ]
  },
  {
   "cell_type": "code",
   "execution_count": null,
   "metadata": {},
   "outputs": [],
   "source": []
  }
 ],
 "metadata": {
  "kernelspec": {
   "display_name": "Python 3",
   "language": "python",
   "name": "python3"
  },
  "language_info": {
   "codemirror_mode": {
    "name": "ipython",
    "version": 3
   },
   "file_extension": ".py",
   "mimetype": "text/x-python",
   "name": "python",
   "nbconvert_exporter": "python",
   "pygments_lexer": "ipython3",
   "version": "3.7.6"
  }
 },
 "nbformat": 4,
 "nbformat_minor": 4
}
