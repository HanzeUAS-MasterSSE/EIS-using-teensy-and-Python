{
 "cells": [
  {
   "cell_type": "code",
   "execution_count": null,
   "metadata": {},
   "outputs": [],
   "source": [
    "from EIS import estimate_impedance, EIS\n",
    "import numpy as np\n",
    "\n",
    "help(estimate_impedance)\n",
    "help(EIS)"
   ]
  },
  {
   "cell_type": "code",
   "execution_count": null,
   "metadata": {},
   "outputs": [],
   "source": [
    "# Specify COM port to which teensy is attached\n",
    "COM = 'COM9'  # /dev/ttyACM0 (Linux)\n",
    "\n",
    "# ... and start an EIS instance \n",
    "myEIS = EIS(COM) \n",
    "\n",
    "print(myEIS.serial.name)"
   ]
  },
  {
   "cell_type": "code",
   "execution_count": null,
   "metadata": {
    "scrolled": true
   },
   "outputs": [],
   "source": [
    "'''\n",
    "Execute the measurements and save the results\n",
    "\n",
    "Here a correct frequency range (f_range) should be picked, for this you need \n",
    "to analyse the circuit to find some ballpark figures.\n",
    "\n",
    "Warning: frequencies used should adhere to the Shannon-Nyquist sampling theorem \n",
    "and they should respect the limitations of the acquisition electronics.\n",
    "\n",
    "Known problem: sometimes a growing list of dots is shown and no further progress. \n",
    "If that happens the workaround is to interrupt the kernel and run this cell again.\n",
    "''' \n",
    "\n",
    "f_max, f_step = 5001, 1000  # f_min is set to 0 below\n",
    "\n",
    "space_style = ['linear', 'logarithmic'][0]\n",
    "\n",
    "if space_style == 'linear':\n",
    "    f_range = np.arange(0, f_max, f_step)\n",
    "elif space_style == 'logarithmic':\n",
    "    f_range = np.logspace(np.log10(1), np.log10(f_max), 6) # log(0) is not defined\n",
    "    f_range[0]= 0 # DC_value is important so put it back in\n",
    "elif 'f_range' not in locals():\n",
    "    raise ValueError('f_range not initialized')\n",
    "\n",
    "spectrum = myEIS.measure_spectrum(f_range, \n",
    "                                  f_sampling = 25000, \n",
    "                                  Rs= 1960,)\n",
    "\n",
    "print(spectrum)\n",
    "\n",
    "np.savez('spectrum__Rs1960Ohm.npz',spectrum=spectrum, f_range=f_range)"
   ]
  },
  {
   "cell_type": "code",
   "execution_count": null,
   "metadata": {
    "scrolled": false
   },
   "outputs": [],
   "source": [
    "'''\n",
    "Exposing some of the lower level functions used in te measurement below.\n",
    "Gives a peak into the last executed measurement on the teensy.\n",
    "'''\n",
    "stimulus_parameters = myEIS.get_stimulus_parameters()  \n",
    "print('------------stimulus_parameters----------------')\n",
    "print(stimulus_parameters) \n",
    "print('-----------------------------------------------')\n",
    "print(myEIS.get_data_slice(1, 0))\n",
    "print('-----------------------------------------------')\n",
    "print(myEIS.get_data_slice(2, 100))\n",
    "print('-----------------------------------------------')\n",
    "print(myEIS.get_data_slice(3, 2001))  \n",
    "# sleep(0.1)\n",
    "print('-----------------------------------------------')\n",
    "print(myEIS.get_and_print_responses())\n",
    "V1 = myEIS.get_data(stimulus_parameters, 1)\n",
    "V2 = myEIS.get_data(stimulus_parameters, 2)\n",
    "DAC = myEIS.get_data(stimulus_parameters, 3)\n",
    "\n",
    "\n",
    "%pylab\n",
    "\n",
    "plt.figure()\n",
    "#plt.plot(np.array(V1),np.array(V2),'g.')\n",
    "plt.subplot(2,1,1)\n",
    "plt.plot(np.array(V1),'go-')\n",
    "plt.subplot(2,1,2)\n",
    "plt.plot(np.array(V2),'ro-')\n",
    "#plt.plot(8*np.array(DAC), 'k.')"
   ]
  },
  {
   "cell_type": "code",
   "execution_count": null,
   "metadata": {
    "scrolled": true
   },
   "outputs": [],
   "source": [
    "'''\n",
    "Load earlier acquired data from file\n",
    "'''\n",
    "\n",
    "reload_data = False\n",
    "if reload_data:\n",
    "    spectrum_storage=np.load('spectrum__Rs1960Ohm.npz')\n",
    "    spectrum = spectrum_storage['spectrum']\n",
    "    f_range=spectrum_storage['f_range']"
   ]
  },
  {
   "cell_type": "code",
   "execution_count": null,
   "metadata": {},
   "outputs": [],
   "source": [
    "'''\n",
    "Create plots of the measured data and a theoretical one for a known circuit. \n",
    "\n",
    "This way you can compare measurements on a known testcircuit with theory.\n",
    "\n",
    "Todo: put info on axes.\n",
    "'''\n",
    "\n",
    "%pylab inline\n",
    "\n",
    "reals = [np.real(pars[0]) for pars in spectrum]\n",
    "imaginaries = [np.imag(pars[0]) for pars in spectrum]\n",
    "frequencies = f_range\n",
    "\n",
    "R_testcircuit, C_testcircuit = 1000, 160*1e-9  # R in Ohm, C in Farad\n",
    "Zomega = 1000/(1+1j*2*pi*frequencies*R_testcircuit*C_testcircuit)\n",
    "\n",
    "# print(Zomega)\n",
    "Zreals = [np.real(Z) for Z in Zomega]\n",
    "Zimaginaries = [np.imag(Z) for Z in Zomega]\n",
    "\n",
    "plt.figure()\n",
    "plt.subplot(3,1,1)\n",
    "plt.plot(reals, imaginaries,'.')\n",
    "\n",
    "plt.subplot(3,1,2)\n",
    "plt.plot(frequencies, reals,'.')\n",
    "\n",
    "plt.subplot(3,1,3)\n",
    "plt.plot(frequencies, imaginaries,'.')\n",
    "\n",
    "plt.figure()\n",
    "plt.subplot(3,1,2)\n",
    "plt.plot(frequencies, Zreals, '.')\n",
    "\n",
    "plt.subplot(3,1,3)\n",
    "plt.plot(frequencies, Zimaginaries,'.')\n",
    "\n",
    "plt.subplot(3,1,1)\n",
    "plt.plot(Zreals, Zimaginaries,'.')\n",
    "\n",
    "\n",
    "plt.figure()\n",
    "plt.subplot(1,2,1)\n",
    "plt.plot(Zreals, reals, '.')\n",
    "\n",
    "\n",
    "plt.subplot(1,2,2)\n",
    "plt.plot(Zimaginaries, imaginaries,'.')\n",
    "\n"
   ]
  }
 ],
 "metadata": {
  "kernelspec": {
   "display_name": "Python 3",
   "language": "python",
   "name": "python3"
  },
  "language_info": {
   "codemirror_mode": {
    "name": "ipython",
    "version": 3
   },
   "file_extension": ".py",
   "mimetype": "text/x-python",
   "name": "python",
   "nbconvert_exporter": "python",
   "pygments_lexer": "ipython3",
   "version": "3.7.6"
  }
 },
 "nbformat": 4,
 "nbformat_minor": 4
}
