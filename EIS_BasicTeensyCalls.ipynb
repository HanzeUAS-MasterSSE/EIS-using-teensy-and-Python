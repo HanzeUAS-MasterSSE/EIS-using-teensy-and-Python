{
 "cells": [
  {
   "cell_type": "code",
   "execution_count": null,
   "metadata": {},
   "outputs": [],
   "source": [
    "import serial\n",
    "import numpy as np\n",
    "from time import sleep\n",
    "import sys\n",
    "import json\n"
   ]
  },
  {
   "cell_type": "code",
   "execution_count": null,
   "metadata": {},
   "outputs": [],
   "source": [
    "COM = 'COM9'  # /dev/ttyACM0 (Linux)\n",
    "BAUD = 115200\n",
    "\n",
    "ser = serial.Serial(COM, BAUD, timeout = .1)\n",
    "\n",
    "print(ser.name)"
   ]
  },
  {
   "cell_type": "code",
   "execution_count": null,
   "metadata": {},
   "outputs": [],
   "source": [
    "def get_and_print_responses(serial_device, print_response = False):\n",
    "    '''\n",
    "        Retrieve messages written by the teensy to the \n",
    "        serial connection under the assumption that the output is \n",
    "        utf-8 encoded. If this assumption is violated the resulting \n",
    "        exception is printed and an empty string is returned.\n",
    "    '''\n",
    "    response = 'No response'\n",
    "    ret = ''\n",
    "    while response != '':\n",
    "        response  = serial_device.readline()\n",
    "        try:\n",
    "            response = response.decode('utf-8') \n",
    "            ret += response   \n",
    "        except Exception as e:\n",
    "            print(f'Exception: {e} \\nResponse: {response}')\n",
    "            ret = ''\n",
    "            \n",
    "        if print_response:\n",
    "            print(response)\n",
    "    return ret"
   ]
  },
  {
   "cell_type": "code",
   "execution_count": null,
   "metadata": {},
   "outputs": [],
   "source": [
    "# \"A\" Change the output amplitude used for the measuremnt\n",
    "ser.write(\"A0.2\\n\".encode('utf8'))\n",
    "response = get_and_print_responses(ser)\n",
    "print(response)"
   ]
  },
  {
   "cell_type": "code",
   "execution_count": null,
   "metadata": {},
   "outputs": [],
   "source": [
    "# \"B\" return hardware parameters out: Boardname, bus frequency and CPU frequency\n",
    "ser.write(\"B\\n\".encode('utf8'))\n",
    "response = get_and_print_responses(ser)\n",
    "print(response)"
   ]
  },
  {
   "cell_type": "code",
   "execution_count": null,
   "metadata": {},
   "outputs": [],
   "source": [
    "# \"F<freq>\\n\" Set the DAC output frequency used during a measurement\n",
    "ser.write(\"F25\\n\".encode('utf8'))\n",
    "response = get_and_print_responses(ser)\n",
    "print(response)"
   ]
  },
  {
   "cell_type": "code",
   "execution_count": null,
   "metadata": {},
   "outputs": [],
   "source": [
    "# \"R\\n\" Get the ADC resolutions\n",
    "ser.write(\"R\\n\".encode('utf8'))\n",
    "response = get_and_print_responses(ser)\n",
    "print(response)"
   ]
  },
  {
   "cell_type": "code",
   "execution_count": null,
   "metadata": {},
   "outputs": [],
   "source": [
    "# \"G<samplefreq>\\n\" Acquire data at <samplefreq>\n",
    "ser.write(\"G1000\\n\".encode('utf8'))\n",
    "ser.write(\"M\\n\".encode('utf8'))\n",
    "response = get_and_print_responses(ser)\n",
    "print(response)"
   ]
  },
  {
   "cell_type": "code",
   "execution_count": null,
   "metadata": {
    "scrolled": false
   },
   "outputs": [],
   "source": [
    "# \"Q<level>\\n\"  \n",
    "for Vout in range(5, 4096, 409):\n",
    "    print(f\"Q{Vout}\\n\".encode('utf8'))\n",
    "    ser.write(f\"Q{Vout}\\n\".encode('utf8'))\n",
    "    sleep(1)\n",
    "    print(get_and_print_responses(ser))\n",
    "    \n",
    "ser.write(f\"Q0\\n\".encode('utf8'))   # Switch it back-off\n",
    "print(get_and_print_responses(ser))"
   ]
  },
  {
   "cell_type": "code",
   "execution_count": null,
   "metadata": {},
   "outputs": [],
   "source": [
    "ser.write(f\"Q0\\n\".encode('utf8'))   # Switch it back-off    \n",
    "get_and_print_responses(ser)"
   ]
  },
  {
   "cell_type": "code",
   "execution_count": null,
   "metadata": {},
   "outputs": [],
   "source": [
    "# \"Z\\n\" Perform OCP measurement\n",
    "ser.write(\"Z\\n\".encode('utf8'))\n",
    "get_and_print_responses(ser)"
   ]
  },
  {
   "cell_type": "code",
   "execution_count": null,
   "metadata": {},
   "outputs": [],
   "source": [
    "# \"R\\n\" \n",
    "ser.write(\"R2600\\n\".encode('utf8'))\n",
    "get_and_print_responses(ser)"
   ]
  },
  {
   "cell_type": "code",
   "execution_count": null,
   "metadata": {},
   "outputs": [],
   "source": [
    "\n",
    "get_and_print_responses(ser)"
   ]
  },
  {
   "cell_type": "code",
   "execution_count": null,
   "metadata": {},
   "outputs": [],
   "source": [
    "Vout =4095\n",
    "print(f\"T{Vout:04}\\n\".encode('utf8'))\n",
    "ser.write(f\"T{Vout:04}\\n\".encode('utf8'))\n",
    "get_and_print_responses(ser)\n"
   ]
  }
 ],
 "metadata": {
  "kernelspec": {
   "display_name": "Python 3",
   "language": "python",
   "name": "python3"
  },
  "language_info": {
   "codemirror_mode": {
    "name": "ipython",
    "version": 3
   },
   "file_extension": ".py",
   "mimetype": "text/x-python",
   "name": "python",
   "nbconvert_exporter": "python",
   "pygments_lexer": "ipython3",
   "version": "3.7.6"
  }
 },
 "nbformat": 4,
 "nbformat_minor": 4
}
